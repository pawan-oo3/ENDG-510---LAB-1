{
 "cells": [
  {
   "cell_type": "code",
   "execution_count": 86,
   "id": "0d7f46a6-e190-4d4a-b92b-77222f7e7c22",
   "metadata": {},
   "outputs": [],
   "source": [
    "#load class\n",
    "import numpy as np\n",
    "import pandas as pd # in case it's not installed then install using conda create\n",
    "#-c conda-forge -n name_of_my_env python pandas\n",
    "# more installations information can be found:\n",
    "#https://pandas.pydata.org/docs/getting_started/install.html\n",
    "import os\n",
    "#load sklearn module for creating and evaluating ML models. In case sklearn isn't\n",
    "#installed,\n",
    "#follow this link https://scikit-learn.org/stable/install.html for further details\n",
    "#on the installation process.\n",
    "from sklearn.neighbors import KNeighborsClassifier #load your classifier. In this\n",
    "#code, I have used KNN. You can choose other algorithms. You have to use at least\n",
    "#3 to complete this.\n",
    "from sklearn.preprocessing import StandardScaler #module for perform scaling\n",
    "from sklearn.model_selection import train_test_split #module for splitting\n",
    "#datatset\n",
    "from sklearn import metrics #module for evaluating performance\n",
    "from sklearn.tree import DecisionTreeClassifier\n",
    "from sklearn.naive_bayes import GaussianNB\n"
   ]
  },
  {
   "cell_type": "code",
   "execution_count": 87,
   "id": "251f6128-c632-40ae-9732-56139427d01c",
   "metadata": {},
   "outputs": [
    {
     "data": {
      "text/html": [
       "<div>\n",
       "<style scoped>\n",
       "    .dataframe tbody tr th:only-of-type {\n",
       "        vertical-align: middle;\n",
       "    }\n",
       "\n",
       "    .dataframe tbody tr th {\n",
       "        vertical-align: top;\n",
       "    }\n",
       "\n",
       "    .dataframe thead th {\n",
       "        text-align: right;\n",
       "    }\n",
       "</style>\n",
       "<table border=\"1\" class=\"dataframe\">\n",
       "  <thead>\n",
       "    <tr style=\"text-align: right;\">\n",
       "      <th></th>\n",
       "      <th>Temp</th>\n",
       "      <th>Humd</th>\n",
       "      <th>Label</th>\n",
       "    </tr>\n",
       "  </thead>\n",
       "  <tbody>\n",
       "    <tr>\n",
       "      <th>0</th>\n",
       "      <td>27.7</td>\n",
       "      <td>31.0</td>\n",
       "      <td>1</td>\n",
       "    </tr>\n",
       "    <tr>\n",
       "      <th>1</th>\n",
       "      <td>27.7</td>\n",
       "      <td>31.0</td>\n",
       "      <td>1</td>\n",
       "    </tr>\n",
       "    <tr>\n",
       "      <th>2</th>\n",
       "      <td>25.1</td>\n",
       "      <td>30.0</td>\n",
       "      <td>1</td>\n",
       "    </tr>\n",
       "    <tr>\n",
       "      <th>3</th>\n",
       "      <td>25.1</td>\n",
       "      <td>30.0</td>\n",
       "      <td>1</td>\n",
       "    </tr>\n",
       "    <tr>\n",
       "      <th>4</th>\n",
       "      <td>25.6</td>\n",
       "      <td>30.0</td>\n",
       "      <td>1</td>\n",
       "    </tr>\n",
       "  </tbody>\n",
       "</table>\n",
       "</div>"
      ],
      "text/plain": [
       "   Temp  Humd  Label\n",
       "0  27.7  31.0      1\n",
       "1  27.7  31.0      1\n",
       "2  25.1  30.0      1\n",
       "3  25.1  30.0      1\n",
       "4  25.6  30.0      1"
      ]
     },
     "execution_count": 87,
     "metadata": {},
     "output_type": "execute_result"
    }
   ],
   "source": [
    "#load your data\n",
    "df = pd.read_csv(\"lab1_data.csv\") #change the name accordingly\n",
    "df.head() # prints top 5 rows from the datatset to check data is load or not"
   ]
  },
  {
   "cell_type": "code",
   "execution_count": 88,
   "id": "13b8391b-deb7-48fd-8057-5f9691817e42",
   "metadata": {},
   "outputs": [
    {
     "name": "stdout",
     "output_type": "stream",
     "text": [
      "Missing Values:\n",
      " Temp     0\n",
      "Humd     0\n",
      "Label    0\n",
      "dtype: int64\n"
     ]
    }
   ],
   "source": [
    "# Check for missing values\n",
    "missing_values = df.isnull().sum()\n",
    "print(\"Missing Values:\\n\", missing_values)"
   ]
  },
  {
   "cell_type": "code",
   "execution_count": 89,
   "id": "b2c67bda-27c4-4101-9450-c35f696d37d6",
   "metadata": {},
   "outputs": [],
   "source": [
    "# remove duplicatesd\n",
    "df = df.drop_duplicates()"
   ]
  },
  {
   "cell_type": "code",
   "execution_count": 90,
   "id": "6d1470ab-32fc-499d-95ce-99bfaabf5b0b",
   "metadata": {},
   "outputs": [],
   "source": [
    "# prepare features\n",
    "x = df.drop(['Label'],axis=1) #remove class or label\n",
    "y = df['Label'] #load label"
   ]
  },
  {
   "cell_type": "code",
   "execution_count": 91,
   "id": "0e1d4381-c52a-4c1c-b2fc-8068f2f4e9fc",
   "metadata": {},
   "outputs": [],
   "source": [
    "x_train,x_test,y_train,y_test = train_test_split(x,y,test_size=.2) #split\n",
    "#datatset. #Here ratio is 80:20. Change accordingly"
   ]
  },
  {
   "cell_type": "code",
   "execution_count": 92,
   "id": "faecd9ae-4771-4b4c-b359-79bfff916d69",
   "metadata": {},
   "outputs": [],
   "source": [
    "# Scale the data using standardization\n",
    "scaler = StandardScaler()\n",
    "x_train = scaler.fit_transform(x_train) #scale training set\n",
    "x_test = scaler.transform(x_test) #scale test set"
   ]
  },
  {
   "cell_type": "code",
   "execution_count": 93,
   "id": "468f4ae1-5203-4d2c-aa1e-8310600eb7f6",
   "metadata": {},
   "outputs": [],
   "source": [
    "z = KNeighborsClassifier(n_neighbors=3) # KNN classifier for 3 neighbours\n",
    "KNN = z.fit(x_train,y_train) # start training\n",
    "predict = KNN.predict(x_test) # performance in the test set"
   ]
  },
  {
   "cell_type": "code",
   "execution_count": 94,
   "id": "2bfd54a5-2d6a-40a2-9d1a-9d59c75e9d89",
   "metadata": {},
   "outputs": [
    {
     "name": "stdout",
     "output_type": "stream",
     "text": [
      "KNN Accuracy: 1.0\n",
      "KNN Recall: 1.0\n"
     ]
    }
   ],
   "source": [
    "print(\"KNN Accuracy:\", metrics.accuracy_score(y_test,predict)) # evaluating the performance based on accuracy\n",
    "print(\"KNN Recall:\", metrics.recall_score(y_test,predict)) # evaluating the performance based on recall"
   ]
  },
  {
   "cell_type": "code",
   "execution_count": 95,
   "id": "e27063fc-7abd-451c-84e9-8523fcc061f0",
   "metadata": {},
   "outputs": [],
   "source": [
    "dt = DecisionTreeClassifier() #Descision Tree classifier\n",
    "dt.fit(x_train, y_train) #start training\n",
    "y_pred_dt = dt.predict(x_test) #perfermance in the test set"
   ]
  },
  {
   "cell_type": "code",
   "execution_count": 96,
   "id": "875999a2-8a02-4138-b3fe-418027a6562b",
   "metadata": {},
   "outputs": [
    {
     "name": "stdout",
     "output_type": "stream",
     "text": [
      "Decision Tree Accuracy: 1.0\n",
      "Decision Tree Recall: 1.0\n"
     ]
    }
   ],
   "source": [
    "print(\"Decision Tree Accuracy:\", metrics.accuracy_score(y_test, y_pred_dt)) # evaluating the performance based on accuracy\n",
    "print(\"Decision Tree Recall:\", metrics.recall_score(y_test, y_pred_dt)) #evaluating the performance based on recall"
   ]
  },
  {
   "cell_type": "code",
   "execution_count": 97,
   "id": "1cba11a2-2880-4878-979e-6e1f5ae888a1",
   "metadata": {},
   "outputs": [],
   "source": [
    "model = GaussianNB() #GaussianNB classifier\n",
    "model.fit(x_train, y_train) #start training\n",
    "y_pred_nb = model.predict(x_test) #performance in the test set"
   ]
  },
  {
   "cell_type": "code",
   "execution_count": 98,
   "id": "36522139-8378-47af-a134-70a9edfbd697",
   "metadata": {},
   "outputs": [
    {
     "name": "stdout",
     "output_type": "stream",
     "text": [
      "Naive Bayes Accuracy: 0.9910313901345291\n",
      "Naive Bayes Recall: 0.9130434782608695\n"
     ]
    }
   ],
   "source": [
    "print(\"Naive Bayes Accuracy:\", metrics.accuracy_score(y_test, y_pred_nb)) # evaluating the performance based on accuracy\n",
    "print(\"Naive Bayes Recall:\", metrics.recall_score(y_test,y_pred_nb)) #evaluating the performance based on recall"
   ]
  },
  {
   "cell_type": "code",
   "execution_count": 99,
   "id": "0fd2a33c-fd8b-4b01-86f1-475eec33a209",
   "metadata": {},
   "outputs": [],
   "source": [
    "# library for save and load scikit-learn models\n",
    "import pickle\n",
    "# file name, recommending *.pickle as a file extension\n",
    "filename = \"model.pickle\"\n",
    "# save model\n",
    "pickle.dump(z, open(filename, \"wb\"))"
   ]
  }
 ],
 "metadata": {
  "kernelspec": {
   "display_name": "Python [conda env:base] *",
   "language": "python",
   "name": "conda-base-py"
  },
  "language_info": {
   "codemirror_mode": {
    "name": "ipython",
    "version": 3
   },
   "file_extension": ".py",
   "mimetype": "text/x-python",
   "name": "python",
   "nbconvert_exporter": "python",
   "pygments_lexer": "ipython3",
   "version": "3.13.5"
  }
 },
 "nbformat": 4,
 "nbformat_minor": 5
}
